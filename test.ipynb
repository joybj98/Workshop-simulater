{
 "cells": [
  {
   "cell_type": "code",
   "execution_count": null,
   "metadata": {},
   "outputs": [],
   "source": [
    "import numpy as np\n",
    "import matplotlib.pyplot as plt\n",
    "input_ranges = {\n",
    "    # more cost, and able to satisfy more demand\n",
    "    'n_cars': range(0, 10001, 10),\n",
    "\n",
    "    # time depends how many demand the cars are serving\n",
    "\n",
    "    'weekday_starthour': range(0, 24),\n",
    "    'weekday_startmin': range(0, 31, 30),\n",
    "    'weekday_endhour': range(0, 24),\n",
    "    'weekday_endmin': range(0, 31, 30),\n",
    "    'holiday_starthour': range(0, 24),\n",
    "    'holiday_startmin': range(0, 31, 30),\n",
    "    'holiday_endhour': range(0, 24),\n",
    "    'holiday_endmin': range(0, 31, 30),\n",
    "\n",
    "    # more cost, but car can save charging time to serve more demand\n",
    "    'charge_on_road': [True, False],\n",
    "\n",
    "    # more cost, but can facilitate demand\n",
    "    'service_lev': range(1, 11),\n",
    "\n",
    "    # lead to lower demand\n",
    "    'once_fare': range(0, 3001)  # yen\n",
    "}"
   ]
  },
  {
   "cell_type": "code",
   "execution_count": 20,
   "metadata": {},
   "outputs": [
    {
     "data": {
      "image/png": "[encoded data removed]",
      "text/plain": [
       "<Figure size 640x480 with 1 Axes>"
      ]
     },
     "metadata": {},
     "output_type": "display_data"
    }
   ],
   "source": [
    "n = 100\n",
    "data = []\n",
    "y = []\n",
    "for i in range(n):\n",
    "    a = np.random.randint(0, 10001, 2)\n",
    "    b = np.random.randint(0, 24, 2)\n",
    "    data.append(a)\n",
    "    data.append(b)\n",
    "    y.append(a.mean())\n",
    "    y.append(b.mean())\n",
    "\n",
    "data = np.array(data).T\n",
    "\n",
    "fit, ax = plt.subplots(1, 1)\n",
    "ax.errorbar(x=sorted(np.hstack([np.arange(0, 3*n, 3), np.arange(1, 3*n+1, 3)])), \n",
    "                y=y, yerr=data, fmt='none', label='profit')\n",
    "plt.show()"
   ]
  },
  {
   "cell_type": "code",
   "execution_count": null,
   "metadata": {},
   "outputs": [],
   "source": [
    "sorted(np.hstack([np.arange(0, 3*n, 3), np.arange(1, 3*n+1, 3)]))"
   ]
  },
  {
   "cell_type": "code",
   "execution_count": 23,
   "metadata": {},
   "outputs": [],
   "source": [
    "import numpy as np\n",
    "\n",
    "profit_list = [np.array([1,5]), np.array([2,2.5]), np.array([10,12])]\n",
    "bad_profit_list = ['bad_profit1', 'bad_profit2', 'bad_profit3']\n",
    "y = ['y1', 'y2', 'y3']\n",
    "bad_y = ['bad_y1', 'bad_y2', 'bad_y3']\n",
    "\n",
    "# Combine the lists into a list of tuples\n",
    "combined = list(zip(profit_list, bad_profit_list, y, bad_y))\n",
    "\n",
    "# Sort the list of tuples based on the mean of the np.array in the first position\n",
    "combined.sort(key=lambda x: np.mean(x[0]))\n",
    "\n",
    "# Decompose the sorted list of tuples back into separate lists\n",
    "profit_list, bad_profit_list, y, bad_y = zip(*combined)\n"
   ]
  },
  {
   "cell_type": "code",
   "execution_count": 24,
   "metadata": {},
   "outputs": [
    {
     "data": {
      "text/plain": [
       "('y2', 'y1', 'y3')"
      ]
     },
     "execution_count": 24,
     "metadata": {},
     "output_type": "execute_result"
    }
   ],
   "source": [
    "y"
   ]
  },
  {
   "cell_type": "code",
   "execution_count": null,
   "metadata": {},
   "outputs": [],
   "source": [
    "import numpy as np\n",
    "import matplotlib.pyplot as plt\n",
    "import pandas as pd\n",
    "from tqdm import tqdm\n",
    "\n",
    "need =pd.read_csv('trip_data.csv')\n",
    "# print(need)\n",
    "new_need = need.copy()['トリップ数'].to_numpy()\n",
    "\n",
    "best_15 = 0\n",
    "best_40 = 0\n",
    "error_15 = 100\n",
    "error_40 = 100\n",
    "for sigma in tqdm(np.linspace(0,0.5,100)):\n",
    "    k = np.random.normal(0, sigma, 50000)\n",
    "    a = np.array([new_need*np.exp(k[i]) for i in range(50000)])\n",
    "\n",
    "    error = abs(np.exp(k)-1).mean()\n",
    "    if abs(error - 0.15)<abs(error_15-0.15):\n",
    "        best_15 = sigma\n",
    "        error_15 = error\n",
    "    if abs(error - 0.4) < abs(error_40-0.4):\n",
    "        best_40 = sigma\n",
    "        error_40 = error\n",
    "\n"
   ]
  },
  {
   "cell_type": "code",
   "execution_count": 28,
   "metadata": {},
   "outputs": [
    {
     "name": "stdout",
     "output_type": "stream",
     "text": [
      "0.18686868686868688 0.15029966698968864\n",
      "0.4646464646464647 0.4015151823167369\n"
     ]
    }
   ],
   "source": [
    "print(best_15, error_15)\n",
    "print(best_40, error_40) "
   ]
  },
  {
   "cell_type": "code",
   "execution_count": null,
   "metadata": {},
   "outputs": [],
   "source": []
  }
 ],
 "metadata": {
  "kernelspec": {
   "display_name": "base",
   "language": "python",
   "name": "python3"
  },
  "language_info": {
   "codemirror_mode": {
    "name": "ipython",
    "version": 3
   },
   "file_extension": ".py",
   "mimetype": "text/x-python",
   "name": "python",
   "nbconvert_exporter": "python",
   "pygments_lexer": "ipython3",
   "version": "3.9.13"
  },
  "orig_nbformat": 4
 },
 "nbformat": 4,
 "nbformat_minor": 2
}
