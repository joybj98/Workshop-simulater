{
 "cells": [
  {
   "cell_type": "code",
   "execution_count": 18,
   "metadata": {},
   "outputs": [
    {
     "name": "stdout",
     "output_type": "stream",
     "text": [
      "[1.01946759 0.33130903 0.33693224 ... 0.74557137 2.79646479 1.13877885] 2.2313400323043417\n"
     ]
    }
   ],
   "source": [
    "import numpy as np\n",
    "import matplotlib.pyplot as plt\n",
    "import pandas as pd\n",
    "\n",
    "need =pd.read_csv('trip_data.csv')\n",
    "new_need = need.copy()['トリップ数'].to_numpy()\n",
    "k = np.random.normal(0, 1, 10000)\n",
    "a = np.array([new_need*np.exp(k[i]) for i in range(10000)])\n",
    "print(np.exp(k), np.std(np.exp(k)))\n",
    "a.shape\n",
    "\n",
    "np.save('random_need.npy', a)\n"
   ]
  },
  {
   "cell_type": "code",
   "execution_count": 6,
   "metadata": {},
   "outputs": [
    {
     "name": "stdout",
     "output_type": "stream",
     "text": [
      "    トリップ数  weekday     時間\n",
      "0     263        1  00:00\n",
      "1     267        1  00:30\n",
      "2     272        1  01:00\n",
      "3     278        1  01:30\n",
      "4     317        1  02:00\n",
      "..    ...      ...    ...\n",
      "91   2746        0  21:30\n",
      "92   1881        0  22:00\n",
      "93   1468        0  22:30\n",
      "94   1250        0  23:00\n",
      "95   1048        0  23:30\n",
      "\n",
      "[96 rows x 3 columns]\n"
     ]
    },
    {
     "data": {
      "text/html": [
       "<div>\n",
       "<style scoped>\n",
       "    .dataframe tbody tr th:only-of-type {\n",
       "        vertical-align: middle;\n",
       "    }\n",
       "\n",
       "    .dataframe tbody tr th {\n",
       "        vertical-align: top;\n",
       "    }\n",
       "\n",
       "    .dataframe thead th {\n",
       "        text-align: right;\n",
       "    }\n",
       "</style>\n",
       "<table border=\"1\" class=\"dataframe\">\n",
       "  <thead>\n",
       "    <tr style=\"text-align: right;\">\n",
       "      <th></th>\n",
       "      <th>トリップ数</th>\n",
       "      <th>weekday</th>\n",
       "      <th>時間</th>\n",
       "    </tr>\n",
       "  </thead>\n",
       "  <tbody>\n",
       "    <tr>\n",
       "      <th>0</th>\n",
       "      <td>268.717138</td>\n",
       "      <td>1</td>\n",
       "      <td>00:00</td>\n",
       "    </tr>\n",
       "    <tr>\n",
       "      <th>1</th>\n",
       "      <td>213.139865</td>\n",
       "      <td>1</td>\n",
       "      <td>00:30</td>\n",
       "    </tr>\n",
       "    <tr>\n",
       "      <th>2</th>\n",
       "      <td>241.930751</td>\n",
       "      <td>1</td>\n",
       "      <td>01:00</td>\n",
       "    </tr>\n",
       "    <tr>\n",
       "      <th>3</th>\n",
       "      <td>252.886507</td>\n",
       "      <td>1</td>\n",
       "      <td>01:30</td>\n",
       "    </tr>\n",
       "    <tr>\n",
       "      <th>4</th>\n",
       "      <td>249.020135</td>\n",
       "      <td>1</td>\n",
       "      <td>02:00</td>\n",
       "    </tr>\n",
       "    <tr>\n",
       "      <th>...</th>\n",
       "      <td>...</td>\n",
       "      <td>...</td>\n",
       "      <td>...</td>\n",
       "    </tr>\n",
       "    <tr>\n",
       "      <th>91</th>\n",
       "      <td>3015.923313</td>\n",
       "      <td>0</td>\n",
       "      <td>21:30</td>\n",
       "    </tr>\n",
       "    <tr>\n",
       "      <th>92</th>\n",
       "      <td>2020.618684</td>\n",
       "      <td>0</td>\n",
       "      <td>22:00</td>\n",
       "    </tr>\n",
       "    <tr>\n",
       "      <th>93</th>\n",
       "      <td>1089.497895</td>\n",
       "      <td>0</td>\n",
       "      <td>22:30</td>\n",
       "    </tr>\n",
       "    <tr>\n",
       "      <th>94</th>\n",
       "      <td>1030.682700</td>\n",
       "      <td>0</td>\n",
       "      <td>23:00</td>\n",
       "    </tr>\n",
       "    <tr>\n",
       "      <th>95</th>\n",
       "      <td>956.935386</td>\n",
       "      <td>0</td>\n",
       "      <td>23:30</td>\n",
       "    </tr>\n",
       "  </tbody>\n",
       "</table>\n",
       "<p>96 rows × 3 columns</p>\n",
       "</div>"
      ],
      "text/plain": [
       "          トリップ数  weekday     時間\n",
       "0    268.717138        1  00:00\n",
       "1    213.139865        1  00:30\n",
       "2    241.930751        1  01:00\n",
       "3    252.886507        1  01:30\n",
       "4    249.020135        1  02:00\n",
       "..          ...      ...    ...\n",
       "91  3015.923313        0  21:30\n",
       "92  2020.618684        0  22:00\n",
       "93  1089.497895        0  22:30\n",
       "94  1030.682700        0  23:00\n",
       "95   956.935386        0  23:30\n",
       "\n",
       "[96 rows x 3 columns]"
      ]
     },
     "execution_count": 6,
     "metadata": {},
     "output_type": "execute_result"
    }
   ],
   "source": [
    "all_need = np.load('random_need.npy', mmap_mode= 'r')\n",
    "\n",
    "base_need = pd.read_csv('trip_data.csv')\n",
    "print(base_need)\n",
    "need = base_need.copy()\n",
    "need['トリップ数'] = all_need[0]\n",
    "need"
   ]
  },
  {
   "cell_type": "code",
   "execution_count": null,
   "metadata": {},
   "outputs": [],
   "source": []
  }
 ],
 "metadata": {
  "kernelspec": {
   "display_name": "base",
   "language": "python",
   "name": "python3"
  },
  "language_info": {
   "codemirror_mode": {
    "name": "ipython",
    "version": 3
   },
   "file_extension": ".py",
   "mimetype": "text/x-python",
   "name": "python",
   "nbconvert_exporter": "python",
   "pygments_lexer": "ipython3",
   "version": "3.9.13"
  },
  "orig_nbformat": 4
 },
 "nbformat": 4,
 "nbformat_minor": 2
}
